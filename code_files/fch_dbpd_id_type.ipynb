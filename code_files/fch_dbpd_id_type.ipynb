{
 "cells": [
  {
   "cell_type": "code",
   "execution_count": 1,
   "metadata": {},
   "outputs": [],
   "source": [
    "import pandas as pd\n",
    "from SPARQLWrapper import SPARQLWrapper, JSON\n",
    "import sys"
   ]
  },
  {
   "cell_type": "code",
   "execution_count": 30,
   "metadata": {},
   "outputs": [],
   "source": [
    "dbpedia_endpoint = \"https://dbpedia.org/sparql\"\n",
    "sparql = SPARQLWrapper(dbpedia_endpoint, agent='sparqlwrapper 1.8.6.dev0 (rdflib.github.io/sparqlwrapper)')"
   ]
  },
  {
   "cell_type": "code",
   "execution_count": 5,
   "metadata": {},
   "outputs": [],
   "source": [
    "class_qry1 = \"\"\"PREFIX wikiID: <http://www.wikidata.org/entity/>\n",
    "select distinct ?ent ?type where { \n",
    "?ent owl:sameAs wikiID:\"\"\"\n",
    "#Q76 to come here in between\n",
    "class_qry2 = \"\"\" . ?ent rdf:type ?type \n",
    "FILTER( regex( ?type, \"http://dbpedia.org/ontology/\"))\n",
    "}\"\"\""
   ]
  },
  {
   "cell_type": "code",
   "execution_count": null,
   "metadata": {},
   "outputs": [],
   "source": [
    "for i in range(4):\n",
    "    inp_file = '../data_files/simpques_wiki_smart/outdata'+str(i+1)+'.json'\n",
    "    out_file = '../data_files/simpques_wiki_smart/output_sq_res'+str(i+1)+'.json'\n",
    "    df_sq = pd.read_json(inp_file)\n",
    "    #print(len(df_sq))\n",
    "    lst_id, lst_ques, lst_datatype, lst_res = [], [], [], []\n",
    "    for i in range(len(df_sq)):\n",
    "        lst_id.append(df_sq['simple_questions_wikidata'][i]['id'])\n",
    "        lst_ques.append(df_sq['simple_questions_wikidata'][i]['question'])\n",
    "        wiki_obj = df_sq['simple_questions_wikidata'][i]['object']\n",
    "        qry = class_qry1 + wiki_obj + class_qry2\n",
    "        #print(qry)\n",
    "        dbpedia_catg, dbpedia_type = fetch_ent_typ(qry)  #should return a category and a list \n",
    "        #print(dbpedia_catg, dbpedia_type)\n",
    "        lst_datatype.append(dbpedia_catg)\n",
    "        lst_res.append(dbpedia_type)\n",
    "    pdf_data_v = {'id': lst_id, 'question': lst_ques, 'category': lst_datatype, 'type': lst_res}\n",
    "    new_df = pd.DataFrame(pdf_data_v, columns = ['id','question','category','type'])\n",
    "    new_df.to_json(out_file, orient='records', indent=len(new_df.columns))"
   ]
  },
  {
   "cell_type": "code",
   "execution_count": 43,
   "metadata": {},
   "outputs": [],
   "source": [
    "#function to fetch results of search term\n",
    "def fetch_ent_typ(qry):\n",
    "       dbpedia_catg = ''\n",
    "       lst_dbpd_typs = []\n",
    "       try:\n",
    "          sparql.setQuery(qry)\n",
    "          sparql.setReturnFormat(JSON)\n",
    "          results = sparql.query().convert()    #results['boolean']\n",
    "          #print(results)\n",
    "          if not len(results['results']['bindings']) == 0:\n",
    "             for item in results['results']['bindings']:                   \n",
    "                try:\n",
    "                   dbpedia_catg = item['type']['type']\n",
    "                   #print(dbpedia_catg)\n",
    "                   lst_dbpd_typs.append(item['type']['value'].split('/')[-1])\n",
    "                except Exception as ex:\n",
    "                   print(ex)\n",
    "                   pass\n",
    "       except Exception as ex:\n",
    "          print('exception came: ',ex)\n",
    "          pass\n",
    "       if dbpedia_catg == 'uri':\n",
    "          dbpedia_catg = 'resource'\n",
    "       return dbpedia_catg, lst_dbpd_typs"
   ]
  },
  {
   "cell_type": "code",
   "execution_count": null,
   "metadata": {},
   "outputs": [],
   "source": []
  }
 ],
 "metadata": {
  "kernelspec": {
   "display_name": "Python 3",
   "language": "python",
   "name": "python3"
  },
  "language_info": {
   "codemirror_mode": {
    "name": "ipython",
    "version": 3
   },
   "file_extension": ".py",
   "mimetype": "text/x-python",
   "name": "python",
   "nbconvert_exporter": "python",
   "pygments_lexer": "ipython3",
   "version": "3.7.3"
  }
 },
 "nbformat": 4,
 "nbformat_minor": 2
}
