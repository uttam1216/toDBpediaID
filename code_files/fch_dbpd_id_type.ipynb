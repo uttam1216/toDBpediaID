{
 "cells": [
  {
   "cell_type": "code",
   "execution_count": 1,
   "metadata": {},
   "outputs": [],
   "source": [
    "import pandas as pd\n",
    "from SPARQLWrapper import SPARQLWrapper, JSON\n",
    "import sys\n",
    "import numpy as np"
   ]
  },
  {
   "cell_type": "code",
   "execution_count": 2,
   "metadata": {},
   "outputs": [],
   "source": [
    "dbpedia_endpoint = \"https://dbpedia.org/sparql\"\n",
    "sparql = SPARQLWrapper(dbpedia_endpoint, agent='sparqlwrapper 1.8.6.dev0 (rdflib.github.io/sparqlwrapper)')"
   ]
  },
  {
   "cell_type": "code",
   "execution_count": 3,
   "metadata": {},
   "outputs": [],
   "source": [
    "class_qry1 = \"\"\"PREFIX wikiID: <http://www.wikidata.org/entity/>\n",
    "select distinct ?ent ?type where { \n",
    "?ent owl:sameAs wikiID:\"\"\"\n",
    "#Q76 to come here in between\n",
    "class_qry2 = \"\"\" . ?ent rdf:type ?type \n",
    "FILTER( regex( ?type, \"http://dbpedia.org/ontology/\"))\n",
    "}\"\"\""
   ]
  },
  {
   "cell_type": "code",
   "execution_count": 4,
   "metadata": {},
   "outputs": [],
   "source": [
    "#function to fetch results of search term\n",
    "def fetch_ent_typ(qry):\n",
    "       dbpedia_catg = ''\n",
    "       lst_dbpd_typs = []\n",
    "       try:\n",
    "          sparql.setQuery(qry)\n",
    "          sparql.setReturnFormat(JSON)\n",
    "          results = sparql.query().convert()    #results['boolean']\n",
    "          #print(results)\n",
    "          if not len(results['results']['bindings']) == 0:\n",
    "             for item in results['results']['bindings']:                   \n",
    "                try:\n",
    "                   dbpedia_catg = item['type']['type']\n",
    "                   #print(dbpedia_catg)\n",
    "                   lst_dbpd_typs.append('dbo:'+str(item['type']['value'].split('/')[-1]))\n",
    "                except Exception as ex:\n",
    "                   print(ex)\n",
    "                   pass\n",
    "       except Exception as ex:\n",
    "          print('exception came: ',ex)\n",
    "          pass\n",
    "       if dbpedia_catg == 'uri':\n",
    "          dbpedia_catg = 'resource'\n",
    "       return dbpedia_catg, lst_dbpd_typs"
   ]
  },
  {
   "cell_type": "code",
   "execution_count": 7,
   "metadata": {},
   "outputs": [],
   "source": [
    "#for i in range(4):\n",
    "i=3\n",
    "if i == 3:\n",
    "    inp_file = '../data_files/simpques_wiki_smart/outdata'+str(i+1)+'.json'\n",
    "    out_file = '../data_files/simpques_wiki_smart/output_sq_res'+str(i+1)+'.json'\n",
    "    df_sq = pd.read_json(inp_file)\n",
    "    #print(len(df_sq))\n",
    "    lst_id, lst_ques, lst_datatype, lst_res = [], [], [], []\n",
    "    for i in range(len(df_sq)):\n",
    "        lst_id.append(df_sq['simple_questions_wikidata'][i]['id'])\n",
    "        lst_ques.append(df_sq['simple_questions_wikidata'][i]['question'])\n",
    "        wiki_obj = df_sq['simple_questions_wikidata'][i]['object']\n",
    "        qry = class_qry1 + wiki_obj + class_qry2\n",
    "        #print(qry)\n",
    "        dbpedia_catg, dbpedia_type = fetch_ent_typ(qry)  #should return a category and a list \n",
    "        #print(dbpedia_catg, dbpedia_type)\n",
    "        lst_datatype.append(dbpedia_catg)\n",
    "        lst_res.append(dbpedia_type)\n",
    "    pdf_data_v = {'id': lst_id, 'question': lst_ques, 'category': lst_datatype, 'type': lst_res}\n",
    "    new_df = pd.DataFrame(pdf_data_v, columns = ['id','question','category','type'])\n",
    "    new_df.to_json(out_file, orient='records', indent=len(new_df.columns))"
   ]
  },
  {
   "cell_type": "markdown",
   "metadata": {},
   "source": [
    "## Processing SmartTask datasets\n",
    "DBpedia datasets"
   ]
  },
  {
   "cell_type": "code",
   "execution_count": 10,
   "metadata": {},
   "outputs": [
    {
     "name": "stdout",
     "output_type": "stream",
     "text": [
      "17571\n",
      "4381\n",
      "4381\n"
     ]
    }
   ],
   "source": [
    "dbpd_train_df = pd.read_json('../data_files/DBpedia/smarttask_dbpedia_train.json')\n",
    "dbpd_test_df = pd.read_json('../data_files/DBpedia/smarttask_dbpedia_test_questions.json')\n",
    "dbpd_test_gold_df = pd.read_json('../data_files/DBpedia/smarttask_dbpedia_test.json')\n",
    "print(len(dbpd_train_df))\n",
    "print(len(dbpd_test_df))\n",
    "print(len(dbpd_test_gold_df))"
   ]
  },
  {
   "cell_type": "code",
   "execution_count": 14,
   "metadata": {},
   "outputs": [
    {
     "name": "stdout",
     "output_type": "stream",
     "text": [
      "21952\n"
     ]
    }
   ],
   "source": [
    "#merging train and test files\n",
    "final_dbpd_df = pd.concat([dbpd_train_df, dbpd_test_df])\n",
    "print(len(final_dbpd_df))\n",
    "#fetching all records of web questions\n",
    "webques_dbpd_inp_file = '../data_files/webques_wiki_smart/outdata_webques_dbepdia.json' \n",
    "wbqsp_dbpd_df = pd.read_json(webques_dbpd_inp_file)"
   ]
  },
  {
   "cell_type": "code",
   "execution_count": 15,
   "metadata": {},
   "outputs": [
    {
     "name": "stdout",
     "output_type": "stream",
     "text": [
      "len of webqsp original:  4131\n",
      "len of webqsp finetuned:  4131\n",
      "tot length of extra df:  5622\n",
      "tot length of refined extra df:  5031\n",
      "tot length of extra df:  6000\n",
      "tot length of refined extra df:  5137\n",
      "tot length of extra df:  13482\n",
      "tot length of refined extra df:  11945\n",
      "tot length of extra df:  2821\n",
      "tot length of refined extra df:  2518\n",
      "50714\n"
     ]
    },
    {
     "data": {
      "text/html": [
       "<div>\n",
       "<style scoped>\n",
       "    .dataframe tbody tr th:only-of-type {\n",
       "        vertical-align: middle;\n",
       "    }\n",
       "\n",
       "    .dataframe tbody tr th {\n",
       "        vertical-align: top;\n",
       "    }\n",
       "\n",
       "    .dataframe thead th {\n",
       "        text-align: right;\n",
       "    }\n",
       "</style>\n",
       "<table border=\"1\" class=\"dataframe\">\n",
       "  <thead>\n",
       "    <tr style=\"text-align: right;\">\n",
       "      <th></th>\n",
       "      <th>id</th>\n",
       "      <th>question</th>\n",
       "      <th>category</th>\n",
       "      <th>type</th>\n",
       "      <th>new_id</th>\n",
       "    </tr>\n",
       "  </thead>\n",
       "  <tbody>\n",
       "    <tr>\n",
       "      <th>2813</th>\n",
       "      <td>2814</td>\n",
       "      <td>what kinds of music is played by season's end</td>\n",
       "      <td>resource</td>\n",
       "      <td>[dbo:Genre, dbo:TopicalConcept, dbo:MusicGenre]</td>\n",
       "      <td>50708</td>\n",
       "    </tr>\n",
       "    <tr>\n",
       "      <th>2814</th>\n",
       "      <td>2815</td>\n",
       "      <td>which asteroid group is 6753 fursenko a member...</td>\n",
       "      <td>resource</td>\n",
       "      <td>[dbo:Album]</td>\n",
       "      <td>50709</td>\n",
       "    </tr>\n",
       "    <tr>\n",
       "      <th>2815</th>\n",
       "      <td>2816</td>\n",
       "      <td>What language is azhakiya ravanan filmed in?</td>\n",
       "      <td>resource</td>\n",
       "      <td>[dbo:Language]</td>\n",
       "      <td>50710</td>\n",
       "    </tr>\n",
       "    <tr>\n",
       "      <th>2816</th>\n",
       "      <td>2817</td>\n",
       "      <td>who developed outnumbered!</td>\n",
       "      <td>resource</td>\n",
       "      <td>[dbo:Company, dbo:Organisation, dbo:Agent]</td>\n",
       "      <td>50711</td>\n",
       "    </tr>\n",
       "    <tr>\n",
       "      <th>2818</th>\n",
       "      <td>2819</td>\n",
       "      <td>which position did herby fortunat play in foot...</td>\n",
       "      <td>resource</td>\n",
       "      <td>[dbo:Person]</td>\n",
       "      <td>50712</td>\n",
       "    </tr>\n",
       "    <tr>\n",
       "      <th>2820</th>\n",
       "      <td>2821</td>\n",
       "      <td>who is a person that was born in sao paulo</td>\n",
       "      <td>resource</td>\n",
       "      <td>[dbo:Person, dbo:Artist, dbo:MusicalArtist, db...</td>\n",
       "      <td>50713</td>\n",
       "    </tr>\n",
       "  </tbody>\n",
       "</table>\n",
       "</div>"
      ],
      "text/plain": [
       "        id                                           question  category  \\\n",
       "2813  2814      what kinds of music is played by season's end  resource   \n",
       "2814  2815  which asteroid group is 6753 fursenko a member...  resource   \n",
       "2815  2816       What language is azhakiya ravanan filmed in?  resource   \n",
       "2816  2817                         who developed outnumbered!  resource   \n",
       "2818  2819  which position did herby fortunat play in foot...  resource   \n",
       "2820  2821         who is a person that was born in sao paulo  resource   \n",
       "\n",
       "                                                   type  new_id  \n",
       "2813    [dbo:Genre, dbo:TopicalConcept, dbo:MusicGenre]   50708  \n",
       "2814                                        [dbo:Album]   50709  \n",
       "2815                                     [dbo:Language]   50710  \n",
       "2816         [dbo:Company, dbo:Organisation, dbo:Agent]   50711  \n",
       "2818                                       [dbo:Person]   50712  \n",
       "2820  [dbo:Person, dbo:Artist, dbo:MusicalArtist, db...   50713  "
      ]
     },
     "execution_count": 15,
     "metadata": {},
     "output_type": "execute_result"
    }
   ],
   "source": [
    "print('len of webqsp original: ',len(wbqsp_dbpd_df))\n",
    "wbqsp_dbpd_df = wbqsp_dbpd_df.loc[wbqsp_dbpd_df['category']!='']\n",
    "print('len of webqsp finetuned: ',len(wbqsp_dbpd_df))\n",
    "final_dbpd_df = pd.concat([final_dbpd_df, wbqsp_dbpd_df])\n",
    "for i in range(4):\n",
    "    inp_file = '../data_files/simpques_wiki_smart/output_sq_res'+str(i+1)+'.json'  \n",
    "    extra_dbpd_df = pd.read_json(inp_file)\n",
    "    print('tot length of extra df: ',len(extra_dbpd_df))\n",
    "    not_null_df = extra_dbpd_df.loc[extra_dbpd_df['category']!='']\n",
    "    print('tot length of refined extra df: ',len(not_null_df))\n",
    "    final_dbpd_df = pd.concat([final_dbpd_df, not_null_df])\n",
    "print(len(final_dbpd_df))\n",
    "#creating new id as old id no more holds good after merging all\n",
    "final_dbpd_df['new_id'] = [x for x in range(len(final_dbpd_df))]\n",
    "out_dbpd_file = '../data_files/simpques_wiki_smart/out_dbpd_train_test_merge.json'\n",
    "final_dbpd_df.to_json(out_dbpd_file, orient='records', indent=len(final_dbpd_df.columns))\n",
    "final_dbpd_df.tail(6)"
   ]
  },
  {
   "cell_type": "code",
   "execution_count": 16,
   "metadata": {},
   "outputs": [],
   "source": [
    "#renaming ids and dropping previous ids\n",
    "final_dbpd_df.drop(\"id\", axis=1, inplace=True)\n",
    "final_dbpd_df.rename(columns={'new_id':'id'}, inplace=True)\n",
    "final_dbpd_df = final_dbpd_df[['id','question','category','type']]"
   ]
  },
  {
   "cell_type": "code",
   "execution_count": 17,
   "metadata": {},
   "outputs": [
    {
     "name": "stdout",
     "output_type": "stream",
     "text": [
      "40621\n",
      "10093\n"
     ]
    }
   ],
   "source": [
    "#splitting in train and test files\n",
    "msk = np.random.rand(len(final_dbpd_df)) < 0.8\n",
    "dbpd_train_df = final_dbpd_df[msk]\n",
    "print(len(dbpd_train_df))\n",
    "dbpd_test_gold_df = final_dbpd_df[~msk]\n",
    "print(len(dbpd_test_gold_df))\n",
    "out_dbpd_train_file = '../data_files/DBpedia/out_dbpd_train.json'\n",
    "dbpd_train_df.to_json(out_dbpd_train_file, orient='records', indent=len(dbpd_train_df.columns))\n",
    "out_dbpd_test_gold_file = '../data_files/DBpedia/out_dbpd_test_gold.json'\n",
    "dbpd_test_gold_df.to_json(out_dbpd_test_gold_file, orient='records', indent=len(dbpd_test_gold_df.columns))\n",
    "dbpd_test_df = dbpd_test_gold_df[['id','question']]\n",
    "out_dbpd_test_file = '../data_files/DBpedia/out_dbpd_test.json'\n",
    "dbpd_test_df.to_json(out_dbpd_test_file, orient='records', indent=len(dbpd_test_df.columns))"
   ]
  },
  {
   "cell_type": "markdown",
   "metadata": {},
   "source": [
    "## Processing SmartTask datasets\n",
    "Wikidata datasets"
   ]
  },
  {
   "cell_type": "code",
   "execution_count": 33,
   "metadata": {},
   "outputs": [],
   "source": [
    "wikidata_endpoint = \"https://query.wikidata.org/sparql\"\n",
    "sparql_wiki = SPARQLWrapper(wikidata_endpoint, agent='sparqlwrapper 1.8.6.dev0 (rdflib.github.io/sparqlwrapper)')"
   ]
  },
  {
   "cell_type": "code",
   "execution_count": 18,
   "metadata": {},
   "outputs": [
    {
     "name": "stdout",
     "output_type": "stream",
     "text": [
      "18251\n",
      "4571\n",
      "4571\n"
     ]
    }
   ],
   "source": [
    "wiki_train_df = pd.read_json('../data_files/Wikidata/lcquad2_anstype_wikidata_train.json')\n",
    "wiki_test_df = pd.read_json('../data_files/Wikidata/lcquad2_anstype_wikidata_test_gold.json')\n",
    "wiki_test_gold_df = pd.read_json('../data_files/Wikidata/lcquad2_anstype_wikidata_test.json')\n",
    "print(len(wiki_train_df))\n",
    "print(len(wiki_test_df))\n",
    "print(len(wiki_test_gold_df))"
   ]
  },
  {
   "cell_type": "code",
   "execution_count": 21,
   "metadata": {},
   "outputs": [
    {
     "name": "stdout",
     "output_type": "stream",
     "text": [
      "22822\n"
     ]
    }
   ],
   "source": [
    "#merging train and test files\n",
    "final_wiki_df = pd.concat([wiki_train_df, wiki_test_df])\n",
    "print(len(final_wiki_df))"
   ]
  },
  {
   "cell_type": "code",
   "execution_count": 22,
   "metadata": {},
   "outputs": [],
   "source": [
    "qry_pt1 = 'select distinct ?label where { wd:'\n",
    "qry_pt2 = ' rdfs:label ?label . FILTER (langMatches( lang(?label), \"EN\" ) ) } LIMIT 1'"
   ]
  },
  {
   "cell_type": "code",
   "execution_count": 37,
   "metadata": {},
   "outputs": [],
   "source": [
    "#function to fetch answer from wikidata endpoint\n",
    "def fetch_label(qry):\n",
    "    res = ''\n",
    "    sparql.setQuery(qry)\n",
    "    sparql.setReturnFormat(JSON)\n",
    "    results = sparql_wiki.query().convert() \n",
    "    for item in results['results']['bindings']: \n",
    "        res = item['label']['value'].lower().strip()\n",
    "        print(res)\n",
    "    return res"
   ]
  },
  {
   "cell_type": "code",
   "execution_count": 36,
   "metadata": {},
   "outputs": [],
   "source": [
    "#fetching all records of web questions and simp ques\n",
    "def concat_df(folder_name,num_files,file_name,subject,final_wiki_df):\n",
    "    for j in range(num_files):\n",
    "        webques_wiki_inp_file = folder_name+file_name+str(j+1)+'.json' \n",
    "        webques_wiki_out_file = folder_name+'lblOutput_'+file_name+str(j+1)+'.json' \n",
    "        wbqsp_wiki_df = pd.read_json(webques_wiki_inp_file)\n",
    "        #print('len of webqsp original: ',len(wbqsp_wiki_df))\n",
    "        #wbqsp_wiki_df = wbqsp_wiki_df.loc[wbqsp_wiki_df['category']!='']\n",
    "        #print('len of webqsp finetuned: ',len(wbqsp_wiki_df))\n",
    "        lst_id, lst_ques, lst_datatype, lst_res = [], [], [], []\n",
    "        wiki_catg = ''\n",
    "        for i in range(len(wbqsp_wiki_df)):\n",
    "            lst_id.append(wbqsp_wiki_df[subject][i]['id'])\n",
    "            lst_ques.append(wbqsp_wiki_df[subject][i]['question'])\n",
    "            results = wbqsp_wiki_df[subject][i]['datatype']\n",
    "            lst_tmp_lbls = []\n",
    "            if not len(results['results']['bindings']) == 0:\n",
    "                 for item in results['results']['bindings']:                   \n",
    "                    try:\n",
    "                       wiki_catg = item['type']['type']\n",
    "                       #print(dbpedia_catg)\n",
    "                       qry = qry_pt1 + str(item['type']['value'].split('/')[-1]) + qry_pt2\n",
    "                       print(qry)\n",
    "                       lst_tmp_lbls.append(fetch_label(qry))                       \n",
    "                    except Exception as ex:\n",
    "                       print(ex)\n",
    "                       pass  \n",
    "            if wiki_catg == 'uri':\n",
    "               wiki_catg = 'resource'\n",
    "            lst_datatype.append(wiki_catg)\n",
    "            lst_res.append(lst_tmp_lbls)\n",
    "            if i == 2:\n",
    "               break\n",
    "        pdf_data_v = {'id': lst_id, 'question': lst_ques, 'category': lst_datatype, 'type': lst_res}\n",
    "        new_df = pd.DataFrame(pdf_data_v, columns = ['id','question','category','type'])\n",
    "        new_df.to_json(webques_wiki_out_file, orient='records', indent=len(new_df.columns))\n",
    "        final_wiki_df = pd.concat([final_wiki_df, new_df])\n",
    "        return final_wiki_df"
   ]
  },
  {
   "cell_type": "code",
   "execution_count": 38,
   "metadata": {},
   "outputs": [
    {
     "name": "stdout",
     "output_type": "stream",
     "text": [
      "3\n"
     ]
    },
    {
     "data": {
      "text/html": [
       "<div>\n",
       "<style scoped>\n",
       "    .dataframe tbody tr th:only-of-type {\n",
       "        vertical-align: middle;\n",
       "    }\n",
       "\n",
       "    .dataframe tbody tr th {\n",
       "        vertical-align: top;\n",
       "    }\n",
       "\n",
       "    .dataframe thead th {\n",
       "        text-align: right;\n",
       "    }\n",
       "</style>\n",
       "<table border=\"1\" class=\"dataframe\">\n",
       "  <thead>\n",
       "    <tr style=\"text-align: right;\">\n",
       "      <th></th>\n",
       "      <th>id</th>\n",
       "      <th>question</th>\n",
       "      <th>category</th>\n",
       "      <th>type</th>\n",
       "    </tr>\n",
       "  </thead>\n",
       "  <tbody>\n",
       "    <tr>\n",
       "      <th>0</th>\n",
       "      <td>19719</td>\n",
       "      <td>What periodical literature does Delta Air Line...</td>\n",
       "      <td>resource</td>\n",
       "      <td>[publication, recurring, intellectual work, te...</td>\n",
       "    </tr>\n",
       "    <tr>\n",
       "      <th>1</th>\n",
       "      <td>15554</td>\n",
       "      <td>Who is the child of Ranavalona I's husband?</td>\n",
       "      <td>resource</td>\n",
       "      <td>[person, omnivore, natural person]</td>\n",
       "    </tr>\n",
       "    <tr>\n",
       "      <th>2</th>\n",
       "      <td>974</td>\n",
       "      <td>Is it true Jeff_Bridges occupation Lane Chandl...</td>\n",
       "      <td>boolean</td>\n",
       "      <td>[boolean]</td>\n",
       "    </tr>\n",
       "  </tbody>\n",
       "</table>\n",
       "</div>"
      ],
      "text/plain": [
       "      id                                           question  category  \\\n",
       "0  19719  What periodical literature does Delta Air Line...  resource   \n",
       "1  15554        Who is the child of Ranavalona I's husband?  resource   \n",
       "2    974  Is it true Jeff_Bridges occupation Lane Chandl...   boolean   \n",
       "\n",
       "                                                type  \n",
       "0  [publication, recurring, intellectual work, te...  \n",
       "1                 [person, omnivore, natural person]  \n",
       "2                                          [boolean]  "
      ]
     },
     "execution_count": 38,
     "metadata": {},
     "output_type": "execute_result"
    }
   ],
   "source": [
    "trial_df = final_wiki_df[0:3]\n",
    "print(len(trial_df))\n",
    "trial_df"
   ]
  },
  {
   "cell_type": "code",
   "execution_count": null,
   "metadata": {},
   "outputs": [
    {
     "name": "stdout",
     "output_type": "stream",
     "text": [
      "select distinct ?label where { wd:Q95074 rdfs:label ?label . FILTER (langMatches( lang(?label), \"EN\" ) ) } LIMIT 1\n"
     ]
    }
   ],
   "source": [
    "folder_name = '../data_files/webques_wiki_smart/'\n",
    "file_name = 'outdata_wq'\n",
    "subject = 'web_questions_wikidata'\n",
    "new_final_wiki_df = concat_df(folder_name,3,file_name,subject,trial_df) #final_wiki_df\n",
    "print(len(new_final_wiki_df))\n",
    "new_final_wiki_df"
   ]
  },
  {
   "cell_type": "code",
   "execution_count": null,
   "metadata": {},
   "outputs": [],
   "source": []
  },
  {
   "cell_type": "code",
   "execution_count": null,
   "metadata": {},
   "outputs": [],
   "source": [
    "#creating new id as old id no more holds good after merging all\n",
    "final_wiki_df['new_id'] = [x for x in range(len(final_wiki_df))]\n",
    "out_wiki_file = '../data_files/simpques_wiki_smart/out_dbpd_train_test_merge.json'\n",
    "final_wiki_df.to_json(out_wiki_file, orient='records', indent=len(final_wiki_df.columns))\n",
    "final_wiki_df.tail(6)"
   ]
  },
  {
   "cell_type": "code",
   "execution_count": 50,
   "metadata": {},
   "outputs": [],
   "source": [
    "wiki_train_df = pd.read_json('../data_files/Wikidata/lcquad2_anstype_wikidata_train.json')\n",
    "wiki_test_df = pd.read_json('../data_files/Wikidata/lcquad2_anstype_wikidata_test.json')\n",
    "wiki_test_gold_df = pd.read_json('../data_files/Wikidata/lcquad2_anstype_wikidata_test_gold.json')"
   ]
  },
  {
   "cell_type": "code",
   "execution_count": 51,
   "metadata": {},
   "outputs": [
    {
     "name": "stdout",
     "output_type": "stream",
     "text": [
      "18251\n",
      "4571\n",
      "4571\n"
     ]
    }
   ],
   "source": [
    "print(len(wiki_train_df))\n",
    "print(len(wiki_test_df))\n",
    "print(len(wiki_test_gold_df))"
   ]
  },
  {
   "cell_type": "code",
   "execution_count": 52,
   "metadata": {},
   "outputs": [
    {
     "data": {
      "text/html": [
       "<div>\n",
       "<style scoped>\n",
       "    .dataframe tbody tr th:only-of-type {\n",
       "        vertical-align: middle;\n",
       "    }\n",
       "\n",
       "    .dataframe tbody tr th {\n",
       "        vertical-align: top;\n",
       "    }\n",
       "\n",
       "    .dataframe thead th {\n",
       "        text-align: right;\n",
       "    }\n",
       "</style>\n",
       "<table border=\"1\" class=\"dataframe\">\n",
       "  <thead>\n",
       "    <tr style=\"text-align: right;\">\n",
       "      <th></th>\n",
       "      <th>id</th>\n",
       "      <th>question</th>\n",
       "      <th>category</th>\n",
       "      <th>type</th>\n",
       "    </tr>\n",
       "  </thead>\n",
       "  <tbody>\n",
       "    <tr>\n",
       "      <th>0</th>\n",
       "      <td>20258</td>\n",
       "      <td>Who is the  country for head of state of Mahmo...</td>\n",
       "      <td>resource</td>\n",
       "      <td>[country, disputed territory, state, Divided r...</td>\n",
       "    </tr>\n",
       "    <tr>\n",
       "      <th>1</th>\n",
       "      <td>12761</td>\n",
       "      <td>Which female actress is the voice over on Sout...</td>\n",
       "      <td>resource</td>\n",
       "      <td>[natural person, omnivore, person]</td>\n",
       "    </tr>\n",
       "    <tr>\n",
       "      <th>2</th>\n",
       "      <td>4236</td>\n",
       "      <td>What is nominated for of Dolores del Río that ...</td>\n",
       "      <td>resource</td>\n",
       "      <td>[award, class]</td>\n",
       "    </tr>\n",
       "    <tr>\n",
       "      <th>3</th>\n",
       "      <td>27315</td>\n",
       "      <td>On Lake Winnipeg what is the lakes on river?</td>\n",
       "      <td>resource</td>\n",
       "      <td>[natural watercourse]</td>\n",
       "    </tr>\n",
       "    <tr>\n",
       "      <th>4</th>\n",
       "      <td>2623</td>\n",
       "      <td>What open cluster has the largest radius?</td>\n",
       "      <td>resource</td>\n",
       "      <td>[star cluster]</td>\n",
       "    </tr>\n",
       "    <tr>\n",
       "      <th>...</th>\n",
       "      <td>...</td>\n",
       "      <td>...</td>\n",
       "      <td>...</td>\n",
       "      <td>...</td>\n",
       "    </tr>\n",
       "    <tr>\n",
       "      <th>4566</th>\n",
       "      <td>24287</td>\n",
       "      <td>What are the gene which start with the letter t</td>\n",
       "      <td>resource</td>\n",
       "      <td>[biological sequence, Nucleic acid sequence, b...</td>\n",
       "    </tr>\n",
       "    <tr>\n",
       "      <th>4567</th>\n",
       "      <td>4667</td>\n",
       "      <td>For what work did Bernard DeVoto receive the P...</td>\n",
       "      <td>resource</td>\n",
       "      <td>[written work, text, creative work]</td>\n",
       "    </tr>\n",
       "    <tr>\n",
       "      <th>4568</th>\n",
       "      <td>16961</td>\n",
       "      <td>What is antonym of of spore print color of Ple...</td>\n",
       "      <td>resource</td>\n",
       "      <td>[web-safe color, absorbed or reflected object ...</td>\n",
       "    </tr>\n",
       "    <tr>\n",
       "      <th>4569</th>\n",
       "      <td>23859</td>\n",
       "      <td>Tell me mixture whose name has the word spirom...</td>\n",
       "      <td>resource</td>\n",
       "      <td>[chemical substance, pharmaceutical preparatio...</td>\n",
       "    </tr>\n",
       "    <tr>\n",
       "      <th>4570</th>\n",
       "      <td>29372</td>\n",
       "      <td>What Theoi Project ID does Manticore has?</td>\n",
       "      <td>literal</td>\n",
       "      <td>[string]</td>\n",
       "    </tr>\n",
       "  </tbody>\n",
       "</table>\n",
       "<p>4571 rows × 4 columns</p>\n",
       "</div>"
      ],
      "text/plain": [
       "         id                                           question  category  \\\n",
       "0     20258  Who is the  country for head of state of Mahmo...  resource   \n",
       "1     12761  Which female actress is the voice over on Sout...  resource   \n",
       "2      4236  What is nominated for of Dolores del Río that ...  resource   \n",
       "3     27315       On Lake Winnipeg what is the lakes on river?  resource   \n",
       "4      2623          What open cluster has the largest radius?  resource   \n",
       "...     ...                                                ...       ...   \n",
       "4566  24287    What are the gene which start with the letter t  resource   \n",
       "4567   4667  For what work did Bernard DeVoto receive the P...  resource   \n",
       "4568  16961  What is antonym of of spore print color of Ple...  resource   \n",
       "4569  23859  Tell me mixture whose name has the word spirom...  resource   \n",
       "4570  29372          What Theoi Project ID does Manticore has?   literal   \n",
       "\n",
       "                                                   type  \n",
       "0     [country, disputed territory, state, Divided r...  \n",
       "1                    [natural person, omnivore, person]  \n",
       "2                                        [award, class]  \n",
       "3                                 [natural watercourse]  \n",
       "4                                        [star cluster]  \n",
       "...                                                 ...  \n",
       "4566  [biological sequence, Nucleic acid sequence, b...  \n",
       "4567                [written work, text, creative work]  \n",
       "4568  [web-safe color, absorbed or reflected object ...  \n",
       "4569  [chemical substance, pharmaceutical preparatio...  \n",
       "4570                                           [string]  \n",
       "\n",
       "[4571 rows x 4 columns]"
      ]
     },
     "execution_count": 52,
     "metadata": {},
     "output_type": "execute_result"
    }
   ],
   "source": [
    "wiki_test_gold_df"
   ]
  },
  {
   "cell_type": "code",
   "execution_count": 53,
   "metadata": {},
   "outputs": [
    {
     "data": {
      "text/html": [
       "<div>\n",
       "<style scoped>\n",
       "    .dataframe tbody tr th:only-of-type {\n",
       "        vertical-align: middle;\n",
       "    }\n",
       "\n",
       "    .dataframe tbody tr th {\n",
       "        vertical-align: top;\n",
       "    }\n",
       "\n",
       "    .dataframe thead th {\n",
       "        text-align: right;\n",
       "    }\n",
       "</style>\n",
       "<table border=\"1\" class=\"dataframe\">\n",
       "  <thead>\n",
       "    <tr style=\"text-align: right;\">\n",
       "      <th></th>\n",
       "      <th>id</th>\n",
       "      <th>question</th>\n",
       "    </tr>\n",
       "  </thead>\n",
       "  <tbody>\n",
       "    <tr>\n",
       "      <th>0</th>\n",
       "      <td>20258</td>\n",
       "      <td>Who is the  country for head of state of Mahmo...</td>\n",
       "    </tr>\n",
       "    <tr>\n",
       "      <th>1</th>\n",
       "      <td>12761</td>\n",
       "      <td>Which female actress is the voice over on Sout...</td>\n",
       "    </tr>\n",
       "    <tr>\n",
       "      <th>2</th>\n",
       "      <td>4236</td>\n",
       "      <td>What is nominated for of Dolores del Río that ...</td>\n",
       "    </tr>\n",
       "    <tr>\n",
       "      <th>3</th>\n",
       "      <td>27315</td>\n",
       "      <td>On Lake Winnipeg what is the lakes on river?</td>\n",
       "    </tr>\n",
       "    <tr>\n",
       "      <th>4</th>\n",
       "      <td>2623</td>\n",
       "      <td>What open cluster has the largest radius?</td>\n",
       "    </tr>\n",
       "    <tr>\n",
       "      <th>...</th>\n",
       "      <td>...</td>\n",
       "      <td>...</td>\n",
       "    </tr>\n",
       "    <tr>\n",
       "      <th>4566</th>\n",
       "      <td>24287</td>\n",
       "      <td>What are the gene which start with the letter t</td>\n",
       "    </tr>\n",
       "    <tr>\n",
       "      <th>4567</th>\n",
       "      <td>4667</td>\n",
       "      <td>For what work did Bernard DeVoto receive the P...</td>\n",
       "    </tr>\n",
       "    <tr>\n",
       "      <th>4568</th>\n",
       "      <td>16961</td>\n",
       "      <td>What is antonym of of spore print color of Ple...</td>\n",
       "    </tr>\n",
       "    <tr>\n",
       "      <th>4569</th>\n",
       "      <td>23859</td>\n",
       "      <td>Tell me mixture whose name has the word spirom...</td>\n",
       "    </tr>\n",
       "    <tr>\n",
       "      <th>4570</th>\n",
       "      <td>29372</td>\n",
       "      <td>What Theoi Project ID does Manticore has?</td>\n",
       "    </tr>\n",
       "  </tbody>\n",
       "</table>\n",
       "<p>4571 rows × 2 columns</p>\n",
       "</div>"
      ],
      "text/plain": [
       "         id                                           question\n",
       "0     20258  Who is the  country for head of state of Mahmo...\n",
       "1     12761  Which female actress is the voice over on Sout...\n",
       "2      4236  What is nominated for of Dolores del Río that ...\n",
       "3     27315       On Lake Winnipeg what is the lakes on river?\n",
       "4      2623          What open cluster has the largest radius?\n",
       "...     ...                                                ...\n",
       "4566  24287    What are the gene which start with the letter t\n",
       "4567   4667  For what work did Bernard DeVoto receive the P...\n",
       "4568  16961  What is antonym of of spore print color of Ple...\n",
       "4569  23859  Tell me mixture whose name has the word spirom...\n",
       "4570  29372          What Theoi Project ID does Manticore has?\n",
       "\n",
       "[4571 rows x 2 columns]"
      ]
     },
     "execution_count": 53,
     "metadata": {},
     "output_type": "execute_result"
    }
   ],
   "source": [
    "wiki_test_df"
   ]
  },
  {
   "cell_type": "code",
   "execution_count": null,
   "metadata": {},
   "outputs": [],
   "source": []
  }
 ],
 "metadata": {
  "kernelspec": {
   "display_name": "Python 3",
   "language": "python",
   "name": "python3"
  },
  "language_info": {
   "codemirror_mode": {
    "name": "ipython",
    "version": 3
   },
   "file_extension": ".py",
   "mimetype": "text/x-python",
   "name": "python",
   "nbconvert_exporter": "python",
   "pygments_lexer": "ipython3",
   "version": "3.7.3"
  }
 },
 "nbformat": 4,
 "nbformat_minor": 2
}
